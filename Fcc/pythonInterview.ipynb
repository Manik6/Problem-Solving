{
 "cells": [
  {
   "cell_type": "markdown",
   "source": [
    "# WHY ANALYZE ALGORITHM ?\r\n",
    "- Procedure or formula for solving a problem\r\n",
    "- Some are so useful they have names:\r\n",
    "    merge sort, bubble sort etc ...\r\n",
    "- How can we compare the algos to know which is better ?\r\n",
    "\r\n",
    "Imagine I came up with this function"
   ],
   "metadata": {}
  },
  {
   "cell_type": "code",
   "execution_count": 1,
   "source": [
    "def sum1(n):\r\n",
    "    '''\r\n",
    "    Take a input of n and return the sum of 0 to n\r\n",
    "    '''\r\n",
    "    finalSum = 0\r\n",
    "    for i in range(n+1):\r\n",
    "        finalSum+=i\r\n",
    "    return finalSum"
   ],
   "outputs": [],
   "metadata": {}
  },
  {
   "cell_type": "code",
   "execution_count": 2,
   "source": [
    "sum1(5)"
   ],
   "outputs": [
    {
     "output_type": "execute_result",
     "data": {
      "text/plain": [
       "15"
      ]
     },
     "metadata": {},
     "execution_count": 2
    }
   ],
   "metadata": {}
  },
  {
   "cell_type": "code",
   "execution_count": 3,
   "source": [
    "# And you give me this function\r\n",
    "def sum2(n):\r\n",
    "    '''\r\n",
    "    Take a input of n and return the sum of 0 to n\r\n",
    "    '''\r\n",
    "    return (n*(n+1)/2)"
   ],
   "outputs": [],
   "metadata": {}
  },
  {
   "cell_type": "code",
   "execution_count": 4,
   "source": [
    "sum2(5)"
   ],
   "outputs": [
    {
     "output_type": "execute_result",
     "data": {
      "text/plain": [
       "15.0"
      ]
     },
     "metadata": {},
     "execution_count": 4
    }
   ],
   "metadata": {}
  },
  {
   "cell_type": "markdown",
   "source": [
    "Funtion sum1 uses a for loop to  iteratively add across our range + 1 \r\n",
    "\r\n",
    "Funtion sum2 makes use of a fromula to solve a problem\r\n",
    "# OBJECTIVELY COMPARE THEM\r\n",
    "- Memory to space\r\n",
    "- time to run\r\n",
    "\r\n",
    "Build in magic commands in note book\r\n",
    "\r\n",
    "result in microseconds"
   ],
   "metadata": {}
  },
  {
   "cell_type": "code",
   "execution_count": 5,
   "source": [
    "%timeit sum1(100)"
   ],
   "outputs": [],
   "metadata": {}
  },
  {
   "cell_type": "code",
   "execution_count": null,
   "source": [
    "%timeit sum2(100)"
   ],
   "outputs": [
    {
     "output_type": "stream",
     "name": "stdout",
     "text": [
      "174 ns ± 47.3 ns per loop (mean ± std. dev. of 7 runs, 1000000 loops each)\n"
     ]
    }
   ],
   "metadata": {}
  },
  {
   "cell_type": "markdown",
   "source": [
    "# Big O notation"
   ],
   "metadata": {}
  },
  {
   "cell_type": "code",
   "execution_count": null,
   "source": [
    "def bigO(n):\r\n",
    "    return 45*n**3+20*n**2+19\r\n",
    "bigO(1)"
   ],
   "outputs": [
    {
     "output_type": "execute_result",
     "data": {
      "text/plain": [
       "84"
      ]
     },
     "metadata": {},
     "execution_count": 7
    }
   ],
   "metadata": {}
  },
  {
   "cell_type": "code",
   "execution_count": null,
   "source": [
    "bigO(2)"
   ],
   "outputs": [
    {
     "output_type": "execute_result",
     "data": {
      "text/plain": [
       "459"
      ]
     },
     "metadata": {},
     "execution_count": 8
    }
   ],
   "metadata": {}
  },
  {
   "cell_type": "code",
   "execution_count": null,
   "source": [
    "bigO(10)"
   ],
   "outputs": [
    {
     "output_type": "execute_result",
     "data": {
      "text/plain": [
       "47019"
      ]
     },
     "metadata": {},
     "execution_count": 9
    }
   ],
   "metadata": {}
  },
  {
   "cell_type": "code",
   "execution_count": null,
   "source": [
    "import numpy as np\r\n",
    "from math import log\r\n",
    "import matplotlib.pyplot as plt\r\n",
    "%matplotlib inline\r\n",
    "\r\n",
    "# Setup runtime comparisons\r\n",
    "n = np.linspace(1,10)\r\n",
    "labels = ['Constant','Logarithmic','Linear','Log Linear','Quadratic','Cubic','Exponential']\r\n",
    "bigO = [np.ones(n.shape),np.log(n),n,n*np.log(n),n**2,2**n]\r\n",
    "\r\n",
    "# Plot setup\r\n",
    "plt.figure(figsize=(16,8))\r\n",
    "plt.ylim(0,50)\r\n",
    "\r\n",
    "for i in range(len(bigO)):\r\n",
    "    plt.plot(n,bigO[i],label = labels[i])\r\n",
    "\r\n",
    "plt.legend(loc=0)\r\n",
    "plt.ylabel(\"Relative runtime\")\r\n",
    "plt.xlabel(\"n\")\r\n"
   ],
   "outputs": [
    {
     "output_type": "execute_result",
     "data": {
      "text/plain": [
       "Text(0.5, 0, 'n')"
      ]
     },
     "metadata": {},
     "execution_count": 10
    },
    {
     "output_type": "display_data",
     "data": {
      "text/plain": [
       "<Figure size 1152x576 with 1 Axes>"
      ],
      "image/svg+xml": "<?xml version=\"1.0\" encoding=\"utf-8\" standalone=\"no\"?>\r\n<!DOCTYPE svg PUBLIC \"-//W3C//DTD SVG 1.1//EN\"\r\n  \"http://www.w3.org/Graphics/SVG/1.1/DTD/svg11.dtd\">\r\n<svg height=\"483.435469pt\" version=\"1.1\" viewBox=\"0 0 940.603125 483.435469\" width=\"940.603125pt\" xmlns=\"http://www.w3.org/2000/svg\" xmlns:xlink=\"http://www.w3.org/1999/xlink\">\r\n <metadata>\r\n  <rdf:RDF xmlns:cc=\"http://creativecommons.org/ns#\" xmlns:dc=\"http://purl.org/dc/elements/1.1/\" xmlns:rdf=\"http://www.w3.org/1999/02/22-rdf-syntax-ns#\">\r\n   <cc:Work>\r\n    <dc:type rdf:resource=\"http://purl.org/dc/dcmitype/StillImage\"/>\r\n    <dc:date>2021-09-01T12:43:19.086233</dc:date>\r\n    <dc:format>image/svg+xml</dc:format>\r\n    <dc:creator>\r\n     <cc:Agent>\r\n      <dc:title>Matplotlib v3.4.2, https://matplotlib.org/</dc:title>\r\n     </cc:Agent>\r\n    </dc:creator>\r\n   </cc:Work>\r\n  </rdf:RDF>\r\n </metadata>\r\n <defs>\r\n  <style type=\"text/css\">*{stroke-linecap:butt;stroke-linejoin:round;}</style>\r\n </defs>\r\n <g id=\"figure_1\">\r\n  <g id=\"patch_1\">\r\n   <path d=\"M 0 483.435469 \r\nL 940.603125 483.435469 \r\nL 940.603125 0 \r\nL 0 0 \r\nz\r\n\" style=\"fill:none;\"/>\r\n  </g>\r\n  <g id=\"axes_1\">\r\n   <g id=\"patch_2\">\r\n    <path d=\"M 40.603125 445.879219 \r\nL 933.403125 445.879219 \r\nL 933.403125 10.999219 \r\nL 40.603125 10.999219 \r\nz\r\n\" style=\"fill:#ffffff;\"/>\r\n   </g>\r\n   <g id=\"matplotlib.axis_1\">\r\n    <g id=\"xtick_1\">\r\n     <g id=\"line2d_1\">\r\n      <defs>\r\n       <path d=\"M 0 0 \r\nL 0 3.5 \r\n\" id=\"m8bdc021efb\" style=\"stroke:#000000;stroke-width:0.8;\"/>\r\n      </defs>\r\n      <g>\r\n       <use style=\"stroke:#000000;stroke-width:0.8;\" x=\"171.366761\" xlink:href=\"#m8bdc021efb\" y=\"445.879219\"/>\r\n      </g>\r\n     </g>\r\n     <g id=\"text_1\">\r\n      <!-- 2 -->\r\n      <g transform=\"translate(168.185511 460.477656)scale(0.1 -0.1)\">\r\n       <defs>\r\n        <path d=\"M 1228 531 \r\nL 3431 531 \r\nL 3431 0 \r\nL 469 0 \r\nL 469 531 \r\nQ 828 903 1448 1529 \r\nQ 2069 2156 2228 2338 \r\nQ 2531 2678 2651 2914 \r\nQ 2772 3150 2772 3378 \r\nQ 2772 3750 2511 3984 \r\nQ 2250 4219 1831 4219 \r\nQ 1534 4219 1204 4116 \r\nQ 875 4013 500 3803 \r\nL 500 4441 \r\nQ 881 4594 1212 4672 \r\nQ 1544 4750 1819 4750 \r\nQ 2544 4750 2975 4387 \r\nQ 3406 4025 3406 3419 \r\nQ 3406 3131 3298 2873 \r\nQ 3191 2616 2906 2266 \r\nQ 2828 2175 2409 1742 \r\nQ 1991 1309 1228 531 \r\nz\r\n\" id=\"DejaVuSans-32\" transform=\"scale(0.015625)\"/>\r\n       </defs>\r\n       <use xlink:href=\"#DejaVuSans-32\"/>\r\n      </g>\r\n     </g>\r\n    </g>\r\n    <g id=\"xtick_2\">\r\n     <g id=\"line2d_2\">\r\n      <g>\r\n       <use style=\"stroke:#000000;stroke-width:0.8;\" x=\"351.730398\" xlink:href=\"#m8bdc021efb\" y=\"445.879219\"/>\r\n      </g>\r\n     </g>\r\n     <g id=\"text_2\">\r\n      <!-- 4 -->\r\n      <g transform=\"translate(348.549148 460.477656)scale(0.1 -0.1)\">\r\n       <defs>\r\n        <path d=\"M 2419 4116 \r\nL 825 1625 \r\nL 2419 1625 \r\nL 2419 4116 \r\nz\r\nM 2253 4666 \r\nL 3047 4666 \r\nL 3047 1625 \r\nL 3713 1625 \r\nL 3713 1100 \r\nL 3047 1100 \r\nL 3047 0 \r\nL 2419 0 \r\nL 2419 1100 \r\nL 313 1100 \r\nL 313 1709 \r\nL 2253 4666 \r\nz\r\n\" id=\"DejaVuSans-34\" transform=\"scale(0.015625)\"/>\r\n       </defs>\r\n       <use xlink:href=\"#DejaVuSans-34\"/>\r\n      </g>\r\n     </g>\r\n    </g>\r\n    <g id=\"xtick_3\">\r\n     <g id=\"line2d_3\">\r\n      <g>\r\n       <use style=\"stroke:#000000;stroke-width:0.8;\" x=\"532.094034\" xlink:href=\"#m8bdc021efb\" y=\"445.879219\"/>\r\n      </g>\r\n     </g>\r\n     <g id=\"text_3\">\r\n      <!-- 6 -->\r\n      <g transform=\"translate(528.912784 460.477656)scale(0.1 -0.1)\">\r\n       <defs>\r\n        <path d=\"M 2113 2584 \r\nQ 1688 2584 1439 2293 \r\nQ 1191 2003 1191 1497 \r\nQ 1191 994 1439 701 \r\nQ 1688 409 2113 409 \r\nQ 2538 409 2786 701 \r\nQ 3034 994 3034 1497 \r\nQ 3034 2003 2786 2293 \r\nQ 2538 2584 2113 2584 \r\nz\r\nM 3366 4563 \r\nL 3366 3988 \r\nQ 3128 4100 2886 4159 \r\nQ 2644 4219 2406 4219 \r\nQ 1781 4219 1451 3797 \r\nQ 1122 3375 1075 2522 \r\nQ 1259 2794 1537 2939 \r\nQ 1816 3084 2150 3084 \r\nQ 2853 3084 3261 2657 \r\nQ 3669 2231 3669 1497 \r\nQ 3669 778 3244 343 \r\nQ 2819 -91 2113 -91 \r\nQ 1303 -91 875 529 \r\nQ 447 1150 447 2328 \r\nQ 447 3434 972 4092 \r\nQ 1497 4750 2381 4750 \r\nQ 2619 4750 2861 4703 \r\nQ 3103 4656 3366 4563 \r\nz\r\n\" id=\"DejaVuSans-36\" transform=\"scale(0.015625)\"/>\r\n       </defs>\r\n       <use xlink:href=\"#DejaVuSans-36\"/>\r\n      </g>\r\n     </g>\r\n    </g>\r\n    <g id=\"xtick_4\">\r\n     <g id=\"line2d_4\">\r\n      <g>\r\n       <use style=\"stroke:#000000;stroke-width:0.8;\" x=\"712.45767\" xlink:href=\"#m8bdc021efb\" y=\"445.879219\"/>\r\n      </g>\r\n     </g>\r\n     <g id=\"text_4\">\r\n      <!-- 8 -->\r\n      <g transform=\"translate(709.27642 460.477656)scale(0.1 -0.1)\">\r\n       <defs>\r\n        <path d=\"M 2034 2216 \r\nQ 1584 2216 1326 1975 \r\nQ 1069 1734 1069 1313 \r\nQ 1069 891 1326 650 \r\nQ 1584 409 2034 409 \r\nQ 2484 409 2743 651 \r\nQ 3003 894 3003 1313 \r\nQ 3003 1734 2745 1975 \r\nQ 2488 2216 2034 2216 \r\nz\r\nM 1403 2484 \r\nQ 997 2584 770 2862 \r\nQ 544 3141 544 3541 \r\nQ 544 4100 942 4425 \r\nQ 1341 4750 2034 4750 \r\nQ 2731 4750 3128 4425 \r\nQ 3525 4100 3525 3541 \r\nQ 3525 3141 3298 2862 \r\nQ 3072 2584 2669 2484 \r\nQ 3125 2378 3379 2068 \r\nQ 3634 1759 3634 1313 \r\nQ 3634 634 3220 271 \r\nQ 2806 -91 2034 -91 \r\nQ 1263 -91 848 271 \r\nQ 434 634 434 1313 \r\nQ 434 1759 690 2068 \r\nQ 947 2378 1403 2484 \r\nz\r\nM 1172 3481 \r\nQ 1172 3119 1398 2916 \r\nQ 1625 2713 2034 2713 \r\nQ 2441 2713 2670 2916 \r\nQ 2900 3119 2900 3481 \r\nQ 2900 3844 2670 4047 \r\nQ 2441 4250 2034 4250 \r\nQ 1625 4250 1398 4047 \r\nQ 1172 3844 1172 3481 \r\nz\r\n\" id=\"DejaVuSans-38\" transform=\"scale(0.015625)\"/>\r\n       </defs>\r\n       <use xlink:href=\"#DejaVuSans-38\"/>\r\n      </g>\r\n     </g>\r\n    </g>\r\n    <g id=\"xtick_5\">\r\n     <g id=\"line2d_5\">\r\n      <g>\r\n       <use style=\"stroke:#000000;stroke-width:0.8;\" x=\"892.821307\" xlink:href=\"#m8bdc021efb\" y=\"445.879219\"/>\r\n      </g>\r\n     </g>\r\n     <g id=\"text_5\">\r\n      <!-- 10 -->\r\n      <g transform=\"translate(886.458807 460.477656)scale(0.1 -0.1)\">\r\n       <defs>\r\n        <path d=\"M 794 531 \r\nL 1825 531 \r\nL 1825 4091 \r\nL 703 3866 \r\nL 703 4441 \r\nL 1819 4666 \r\nL 2450 4666 \r\nL 2450 531 \r\nL 3481 531 \r\nL 3481 0 \r\nL 794 0 \r\nL 794 531 \r\nz\r\n\" id=\"DejaVuSans-31\" transform=\"scale(0.015625)\"/>\r\n        <path d=\"M 2034 4250 \r\nQ 1547 4250 1301 3770 \r\nQ 1056 3291 1056 2328 \r\nQ 1056 1369 1301 889 \r\nQ 1547 409 2034 409 \r\nQ 2525 409 2770 889 \r\nQ 3016 1369 3016 2328 \r\nQ 3016 3291 2770 3770 \r\nQ 2525 4250 2034 4250 \r\nz\r\nM 2034 4750 \r\nQ 2819 4750 3233 4129 \r\nQ 3647 3509 3647 2328 \r\nQ 3647 1150 3233 529 \r\nQ 2819 -91 2034 -91 \r\nQ 1250 -91 836 529 \r\nQ 422 1150 422 2328 \r\nQ 422 3509 836 4129 \r\nQ 1250 4750 2034 4750 \r\nz\r\n\" id=\"DejaVuSans-30\" transform=\"scale(0.015625)\"/>\r\n       </defs>\r\n       <use xlink:href=\"#DejaVuSans-31\"/>\r\n       <use x=\"63.623047\" xlink:href=\"#DejaVuSans-30\"/>\r\n      </g>\r\n     </g>\r\n    </g>\r\n    <g id=\"text_6\">\r\n     <!-- n -->\r\n     <g transform=\"translate(483.834375 474.155781)scale(0.1 -0.1)\">\r\n      <defs>\r\n       <path d=\"M 3513 2113 \r\nL 3513 0 \r\nL 2938 0 \r\nL 2938 2094 \r\nQ 2938 2591 2744 2837 \r\nQ 2550 3084 2163 3084 \r\nQ 1697 3084 1428 2787 \r\nQ 1159 2491 1159 1978 \r\nL 1159 0 \r\nL 581 0 \r\nL 581 3500 \r\nL 1159 3500 \r\nL 1159 2956 \r\nQ 1366 3272 1645 3428 \r\nQ 1925 3584 2291 3584 \r\nQ 2894 3584 3203 3211 \r\nQ 3513 2838 3513 2113 \r\nz\r\n\" id=\"DejaVuSans-6e\" transform=\"scale(0.015625)\"/>\r\n      </defs>\r\n      <use xlink:href=\"#DejaVuSans-6e\"/>\r\n     </g>\r\n    </g>\r\n   </g>\r\n   <g id=\"matplotlib.axis_2\">\r\n    <g id=\"ytick_1\">\r\n     <g id=\"line2d_6\">\r\n      <defs>\r\n       <path d=\"M 0 0 \r\nL -3.5 0 \r\n\" id=\"md7900f411c\" style=\"stroke:#000000;stroke-width:0.8;\"/>\r\n      </defs>\r\n      <g>\r\n       <use style=\"stroke:#000000;stroke-width:0.8;\" x=\"40.603125\" xlink:href=\"#md7900f411c\" y=\"445.879219\"/>\r\n      </g>\r\n     </g>\r\n     <g id=\"text_7\">\r\n      <!-- 0 -->\r\n      <g transform=\"translate(27.240625 449.678437)scale(0.1 -0.1)\">\r\n       <use xlink:href=\"#DejaVuSans-30\"/>\r\n      </g>\r\n     </g>\r\n    </g>\r\n    <g id=\"ytick_2\">\r\n     <g id=\"line2d_7\">\r\n      <g>\r\n       <use style=\"stroke:#000000;stroke-width:0.8;\" x=\"40.603125\" xlink:href=\"#md7900f411c\" y=\"358.903219\"/>\r\n      </g>\r\n     </g>\r\n     <g id=\"text_8\">\r\n      <!-- 10 -->\r\n      <g transform=\"translate(20.878125 362.702437)scale(0.1 -0.1)\">\r\n       <use xlink:href=\"#DejaVuSans-31\"/>\r\n       <use x=\"63.623047\" xlink:href=\"#DejaVuSans-30\"/>\r\n      </g>\r\n     </g>\r\n    </g>\r\n    <g id=\"ytick_3\">\r\n     <g id=\"line2d_8\">\r\n      <g>\r\n       <use style=\"stroke:#000000;stroke-width:0.8;\" x=\"40.603125\" xlink:href=\"#md7900f411c\" y=\"271.927219\"/>\r\n      </g>\r\n     </g>\r\n     <g id=\"text_9\">\r\n      <!-- 20 -->\r\n      <g transform=\"translate(20.878125 275.726437)scale(0.1 -0.1)\">\r\n       <use xlink:href=\"#DejaVuSans-32\"/>\r\n       <use x=\"63.623047\" xlink:href=\"#DejaVuSans-30\"/>\r\n      </g>\r\n     </g>\r\n    </g>\r\n    <g id=\"ytick_4\">\r\n     <g id=\"line2d_9\">\r\n      <g>\r\n       <use style=\"stroke:#000000;stroke-width:0.8;\" x=\"40.603125\" xlink:href=\"#md7900f411c\" y=\"184.951219\"/>\r\n      </g>\r\n     </g>\r\n     <g id=\"text_10\">\r\n      <!-- 30 -->\r\n      <g transform=\"translate(20.878125 188.750437)scale(0.1 -0.1)\">\r\n       <defs>\r\n        <path d=\"M 2597 2516 \r\nQ 3050 2419 3304 2112 \r\nQ 3559 1806 3559 1356 \r\nQ 3559 666 3084 287 \r\nQ 2609 -91 1734 -91 \r\nQ 1441 -91 1130 -33 \r\nQ 819 25 488 141 \r\nL 488 750 \r\nQ 750 597 1062 519 \r\nQ 1375 441 1716 441 \r\nQ 2309 441 2620 675 \r\nQ 2931 909 2931 1356 \r\nQ 2931 1769 2642 2001 \r\nQ 2353 2234 1838 2234 \r\nL 1294 2234 \r\nL 1294 2753 \r\nL 1863 2753 \r\nQ 2328 2753 2575 2939 \r\nQ 2822 3125 2822 3475 \r\nQ 2822 3834 2567 4026 \r\nQ 2313 4219 1838 4219 \r\nQ 1578 4219 1281 4162 \r\nQ 984 4106 628 3988 \r\nL 628 4550 \r\nQ 988 4650 1302 4700 \r\nQ 1616 4750 1894 4750 \r\nQ 2613 4750 3031 4423 \r\nQ 3450 4097 3450 3541 \r\nQ 3450 3153 3228 2886 \r\nQ 3006 2619 2597 2516 \r\nz\r\n\" id=\"DejaVuSans-33\" transform=\"scale(0.015625)\"/>\r\n       </defs>\r\n       <use xlink:href=\"#DejaVuSans-33\"/>\r\n       <use x=\"63.623047\" xlink:href=\"#DejaVuSans-30\"/>\r\n      </g>\r\n     </g>\r\n    </g>\r\n    <g id=\"ytick_5\">\r\n     <g id=\"line2d_10\">\r\n      <g>\r\n       <use style=\"stroke:#000000;stroke-width:0.8;\" x=\"40.603125\" xlink:href=\"#md7900f411c\" y=\"97.975219\"/>\r\n      </g>\r\n     </g>\r\n     <g id=\"text_11\">\r\n      <!-- 40 -->\r\n      <g transform=\"translate(20.878125 101.774437)scale(0.1 -0.1)\">\r\n       <use xlink:href=\"#DejaVuSans-34\"/>\r\n       <use x=\"63.623047\" xlink:href=\"#DejaVuSans-30\"/>\r\n      </g>\r\n     </g>\r\n    </g>\r\n    <g id=\"ytick_6\">\r\n     <g id=\"line2d_11\">\r\n      <g>\r\n       <use style=\"stroke:#000000;stroke-width:0.8;\" x=\"40.603125\" xlink:href=\"#md7900f411c\" y=\"10.999219\"/>\r\n      </g>\r\n     </g>\r\n     <g id=\"text_12\">\r\n      <!-- 50 -->\r\n      <g transform=\"translate(20.878125 14.798437)scale(0.1 -0.1)\">\r\n       <defs>\r\n        <path d=\"M 691 4666 \r\nL 3169 4666 \r\nL 3169 4134 \r\nL 1269 4134 \r\nL 1269 2991 \r\nQ 1406 3038 1543 3061 \r\nQ 1681 3084 1819 3084 \r\nQ 2600 3084 3056 2656 \r\nQ 3513 2228 3513 1497 \r\nQ 3513 744 3044 326 \r\nQ 2575 -91 1722 -91 \r\nQ 1428 -91 1123 -41 \r\nQ 819 9 494 109 \r\nL 494 744 \r\nQ 775 591 1075 516 \r\nQ 1375 441 1709 441 \r\nQ 2250 441 2565 725 \r\nQ 2881 1009 2881 1497 \r\nQ 2881 1984 2565 2268 \r\nQ 2250 2553 1709 2553 \r\nQ 1456 2553 1204 2497 \r\nQ 953 2441 691 2322 \r\nL 691 4666 \r\nz\r\n\" id=\"DejaVuSans-35\" transform=\"scale(0.015625)\"/>\r\n       </defs>\r\n       <use xlink:href=\"#DejaVuSans-35\"/>\r\n       <use x=\"63.623047\" xlink:href=\"#DejaVuSans-30\"/>\r\n      </g>\r\n     </g>\r\n    </g>\r\n    <g id=\"text_13\">\r\n     <!-- Relative runtime -->\r\n     <g transform=\"translate(14.798438 269.881406)rotate(-90)scale(0.1 -0.1)\">\r\n      <defs>\r\n       <path d=\"M 2841 2188 \r\nQ 3044 2119 3236 1894 \r\nQ 3428 1669 3622 1275 \r\nL 4263 0 \r\nL 3584 0 \r\nL 2988 1197 \r\nQ 2756 1666 2539 1819 \r\nQ 2322 1972 1947 1972 \r\nL 1259 1972 \r\nL 1259 0 \r\nL 628 0 \r\nL 628 4666 \r\nL 2053 4666 \r\nQ 2853 4666 3247 4331 \r\nQ 3641 3997 3641 3322 \r\nQ 3641 2881 3436 2590 \r\nQ 3231 2300 2841 2188 \r\nz\r\nM 1259 4147 \r\nL 1259 2491 \r\nL 2053 2491 \r\nQ 2509 2491 2742 2702 \r\nQ 2975 2913 2975 3322 \r\nQ 2975 3731 2742 3939 \r\nQ 2509 4147 2053 4147 \r\nL 1259 4147 \r\nz\r\n\" id=\"DejaVuSans-52\" transform=\"scale(0.015625)\"/>\r\n       <path d=\"M 3597 1894 \r\nL 3597 1613 \r\nL 953 1613 \r\nQ 991 1019 1311 708 \r\nQ 1631 397 2203 397 \r\nQ 2534 397 2845 478 \r\nQ 3156 559 3463 722 \r\nL 3463 178 \r\nQ 3153 47 2828 -22 \r\nQ 2503 -91 2169 -91 \r\nQ 1331 -91 842 396 \r\nQ 353 884 353 1716 \r\nQ 353 2575 817 3079 \r\nQ 1281 3584 2069 3584 \r\nQ 2775 3584 3186 3129 \r\nQ 3597 2675 3597 1894 \r\nz\r\nM 3022 2063 \r\nQ 3016 2534 2758 2815 \r\nQ 2500 3097 2075 3097 \r\nQ 1594 3097 1305 2825 \r\nQ 1016 2553 972 2059 \r\nL 3022 2063 \r\nz\r\n\" id=\"DejaVuSans-65\" transform=\"scale(0.015625)\"/>\r\n       <path d=\"M 603 4863 \r\nL 1178 4863 \r\nL 1178 0 \r\nL 603 0 \r\nL 603 4863 \r\nz\r\n\" id=\"DejaVuSans-6c\" transform=\"scale(0.015625)\"/>\r\n       <path d=\"M 2194 1759 \r\nQ 1497 1759 1228 1600 \r\nQ 959 1441 959 1056 \r\nQ 959 750 1161 570 \r\nQ 1363 391 1709 391 \r\nQ 2188 391 2477 730 \r\nQ 2766 1069 2766 1631 \r\nL 2766 1759 \r\nL 2194 1759 \r\nz\r\nM 3341 1997 \r\nL 3341 0 \r\nL 2766 0 \r\nL 2766 531 \r\nQ 2569 213 2275 61 \r\nQ 1981 -91 1556 -91 \r\nQ 1019 -91 701 211 \r\nQ 384 513 384 1019 \r\nQ 384 1609 779 1909 \r\nQ 1175 2209 1959 2209 \r\nL 2766 2209 \r\nL 2766 2266 \r\nQ 2766 2663 2505 2880 \r\nQ 2244 3097 1772 3097 \r\nQ 1472 3097 1187 3025 \r\nQ 903 2953 641 2809 \r\nL 641 3341 \r\nQ 956 3463 1253 3523 \r\nQ 1550 3584 1831 3584 \r\nQ 2591 3584 2966 3190 \r\nQ 3341 2797 3341 1997 \r\nz\r\n\" id=\"DejaVuSans-61\" transform=\"scale(0.015625)\"/>\r\n       <path d=\"M 1172 4494 \r\nL 1172 3500 \r\nL 2356 3500 \r\nL 2356 3053 \r\nL 1172 3053 \r\nL 1172 1153 \r\nQ 1172 725 1289 603 \r\nQ 1406 481 1766 481 \r\nL 2356 481 \r\nL 2356 0 \r\nL 1766 0 \r\nQ 1100 0 847 248 \r\nQ 594 497 594 1153 \r\nL 594 3053 \r\nL 172 3053 \r\nL 172 3500 \r\nL 594 3500 \r\nL 594 4494 \r\nL 1172 4494 \r\nz\r\n\" id=\"DejaVuSans-74\" transform=\"scale(0.015625)\"/>\r\n       <path d=\"M 603 3500 \r\nL 1178 3500 \r\nL 1178 0 \r\nL 603 0 \r\nL 603 3500 \r\nz\r\nM 603 4863 \r\nL 1178 4863 \r\nL 1178 4134 \r\nL 603 4134 \r\nL 603 4863 \r\nz\r\n\" id=\"DejaVuSans-69\" transform=\"scale(0.015625)\"/>\r\n       <path d=\"M 191 3500 \r\nL 800 3500 \r\nL 1894 563 \r\nL 2988 3500 \r\nL 3597 3500 \r\nL 2284 0 \r\nL 1503 0 \r\nL 191 3500 \r\nz\r\n\" id=\"DejaVuSans-76\" transform=\"scale(0.015625)\"/>\r\n       <path id=\"DejaVuSans-20\" transform=\"scale(0.015625)\"/>\r\n       <path d=\"M 2631 2963 \r\nQ 2534 3019 2420 3045 \r\nQ 2306 3072 2169 3072 \r\nQ 1681 3072 1420 2755 \r\nQ 1159 2438 1159 1844 \r\nL 1159 0 \r\nL 581 0 \r\nL 581 3500 \r\nL 1159 3500 \r\nL 1159 2956 \r\nQ 1341 3275 1631 3429 \r\nQ 1922 3584 2338 3584 \r\nQ 2397 3584 2469 3576 \r\nQ 2541 3569 2628 3553 \r\nL 2631 2963 \r\nz\r\n\" id=\"DejaVuSans-72\" transform=\"scale(0.015625)\"/>\r\n       <path d=\"M 544 1381 \r\nL 544 3500 \r\nL 1119 3500 \r\nL 1119 1403 \r\nQ 1119 906 1312 657 \r\nQ 1506 409 1894 409 \r\nQ 2359 409 2629 706 \r\nQ 2900 1003 2900 1516 \r\nL 2900 3500 \r\nL 3475 3500 \r\nL 3475 0 \r\nL 2900 0 \r\nL 2900 538 \r\nQ 2691 219 2414 64 \r\nQ 2138 -91 1772 -91 \r\nQ 1169 -91 856 284 \r\nQ 544 659 544 1381 \r\nz\r\nM 1991 3584 \r\nL 1991 3584 \r\nz\r\n\" id=\"DejaVuSans-75\" transform=\"scale(0.015625)\"/>\r\n       <path d=\"M 3328 2828 \r\nQ 3544 3216 3844 3400 \r\nQ 4144 3584 4550 3584 \r\nQ 5097 3584 5394 3201 \r\nQ 5691 2819 5691 2113 \r\nL 5691 0 \r\nL 5113 0 \r\nL 5113 2094 \r\nQ 5113 2597 4934 2840 \r\nQ 4756 3084 4391 3084 \r\nQ 3944 3084 3684 2787 \r\nQ 3425 2491 3425 1978 \r\nL 3425 0 \r\nL 2847 0 \r\nL 2847 2094 \r\nQ 2847 2600 2669 2842 \r\nQ 2491 3084 2119 3084 \r\nQ 1678 3084 1418 2786 \r\nQ 1159 2488 1159 1978 \r\nL 1159 0 \r\nL 581 0 \r\nL 581 3500 \r\nL 1159 3500 \r\nL 1159 2956 \r\nQ 1356 3278 1631 3431 \r\nQ 1906 3584 2284 3584 \r\nQ 2666 3584 2933 3390 \r\nQ 3200 3197 3328 2828 \r\nz\r\n\" id=\"DejaVuSans-6d\" transform=\"scale(0.015625)\"/>\r\n      </defs>\r\n      <use xlink:href=\"#DejaVuSans-52\"/>\r\n      <use x=\"64.982422\" xlink:href=\"#DejaVuSans-65\"/>\r\n      <use x=\"126.505859\" xlink:href=\"#DejaVuSans-6c\"/>\r\n      <use x=\"154.289062\" xlink:href=\"#DejaVuSans-61\"/>\r\n      <use x=\"215.568359\" xlink:href=\"#DejaVuSans-74\"/>\r\n      <use x=\"254.777344\" xlink:href=\"#DejaVuSans-69\"/>\r\n      <use x=\"282.560547\" xlink:href=\"#DejaVuSans-76\"/>\r\n      <use x=\"341.740234\" xlink:href=\"#DejaVuSans-65\"/>\r\n      <use x=\"403.263672\" xlink:href=\"#DejaVuSans-20\"/>\r\n      <use x=\"435.050781\" xlink:href=\"#DejaVuSans-72\"/>\r\n      <use x=\"476.164062\" xlink:href=\"#DejaVuSans-75\"/>\r\n      <use x=\"539.542969\" xlink:href=\"#DejaVuSans-6e\"/>\r\n      <use x=\"602.921875\" xlink:href=\"#DejaVuSans-74\"/>\r\n      <use x=\"642.130859\" xlink:href=\"#DejaVuSans-69\"/>\r\n      <use x=\"669.914062\" xlink:href=\"#DejaVuSans-6d\"/>\r\n      <use x=\"767.326172\" xlink:href=\"#DejaVuSans-65\"/>\r\n     </g>\r\n    </g>\r\n   </g>\r\n   <g id=\"line2d_12\">\r\n    <path clip-path=\"url(#p079148baa8)\" d=\"M 81.184943 437.181619 \r\nL 97.748951 437.181619 \r\nL 114.312958 437.181619 \r\nL 130.876965 437.181619 \r\nL 147.440973 437.181619 \r\nL 164.00498 437.181619 \r\nL 180.568988 437.181619 \r\nL 197.132995 437.181619 \r\nL 213.697003 437.181619 \r\nL 230.26101 437.181619 \r\nL 246.825017 437.181619 \r\nL 263.389025 437.181619 \r\nL 279.953032 437.181619 \r\nL 296.51704 437.181619 \r\nL 313.081047 437.181619 \r\nL 329.645054 437.181619 \r\nL 346.209062 437.181619 \r\nL 362.773069 437.181619 \r\nL 379.337077 437.181619 \r\nL 395.901084 437.181619 \r\nL 412.465092 437.181619 \r\nL 429.029099 437.181619 \r\nL 445.593106 437.181619 \r\nL 462.157114 437.181619 \r\nL 478.721121 437.181619 \r\nL 495.285129 437.181619 \r\nL 511.849136 437.181619 \r\nL 528.413144 437.181619 \r\nL 544.977151 437.181619 \r\nL 561.541158 437.181619 \r\nL 578.105166 437.181619 \r\nL 594.669173 437.181619 \r\nL 611.233181 437.181619 \r\nL 627.797188 437.181619 \r\nL 644.361196 437.181619 \r\nL 660.925203 437.181619 \r\nL 677.48921 437.181619 \r\nL 694.053218 437.181619 \r\nL 710.617225 437.181619 \r\nL 727.181233 437.181619 \r\nL 743.74524 437.181619 \r\nL 760.309247 437.181619 \r\nL 776.873255 437.181619 \r\nL 793.437262 437.181619 \r\nL 810.00127 437.181619 \r\nL 826.565277 437.181619 \r\nL 843.129285 437.181619 \r\nL 859.693292 437.181619 \r\nL 876.257299 437.181619 \r\nL 892.821307 437.181619 \r\n\" style=\"fill:none;stroke:#1f77b4;stroke-linecap:square;stroke-width:1.5;\"/>\r\n   </g>\r\n   <g id=\"line2d_13\">\r\n    <path clip-path=\"url(#p079148baa8)\" d=\"M 81.184943 445.879219 \r\nL 97.748951 444.412606 \r\nL 114.312958 443.15798 \r\nL 130.876965 442.061729 \r\nL 147.440973 441.088311 \r\nL 164.00498 440.212954 \r\nL 180.568988 439.417696 \r\nL 197.132995 438.689099 \r\nL 213.697003 438.016847 \r\nL 230.26101 437.392847 \r\nL 246.825017 436.810634 \r\nL 263.389025 436.264962 \r\nL 279.953032 435.751511 \r\nL 296.51704 435.26669 \r\nL 313.081047 434.807472 \r\nL 329.645054 434.37129 \r\nL 346.209062 433.955941 \r\nL 362.773069 433.559526 \r\nL 379.337077 433.180394 \r\nL 395.901084 432.8171 \r\nL 412.465092 432.468374 \r\nL 429.029099 432.133094 \r\nL 445.593106 431.810259 \r\nL 462.157114 431.49898 \r\nL 478.721121 431.198457 \r\nL 495.285129 430.907972 \r\nL 511.849136 430.626876 \r\nL 528.413144 430.354581 \r\nL 544.977151 430.090553 \r\nL 561.541158 429.834304 \r\nL 578.105166 429.585389 \r\nL 594.669173 429.3434 \r\nL 611.233181 429.107962 \r\nL 627.797188 428.878729 \r\nL 644.361196 428.655383 \r\nL 660.925203 428.437629 \r\nL 677.48921 428.225195 \r\nL 694.053218 428.017825 \r\nL 710.617225 427.815284 \r\nL 727.181233 427.617353 \r\nL 743.74524 427.423826 \r\nL 760.309247 427.234512 \r\nL 776.873255 427.04923 \r\nL 793.437262 426.867814 \r\nL 810.00127 426.690104 \r\nL 826.565277 426.515953 \r\nL 843.129285 426.34522 \r\nL 859.693292 426.177775 \r\nL 876.257299 426.013492 \r\nL 892.821307 425.852255 \r\n\" style=\"fill:none;stroke:#ff7f0e;stroke-linecap:square;stroke-width:1.5;\"/>\r\n   </g>\r\n   <g id=\"line2d_14\">\r\n    <path clip-path=\"url(#p079148baa8)\" d=\"M 81.184943 437.181619 \r\nL 97.748951 435.5841 \r\nL 114.312958 433.986582 \r\nL 130.876965 432.389064 \r\nL 147.440973 430.791545 \r\nL 164.00498 429.194027 \r\nL 180.568988 427.596509 \r\nL 197.132995 425.99899 \r\nL 213.697003 424.401472 \r\nL 230.26101 422.803953 \r\nL 246.825017 421.206435 \r\nL 263.389025 419.608917 \r\nL 279.953032 418.011398 \r\nL 296.51704 416.41388 \r\nL 313.081047 414.816362 \r\nL 329.645054 413.218843 \r\nL 346.209062 411.621325 \r\nL 362.773069 410.023807 \r\nL 379.337077 408.426288 \r\nL 395.901084 406.82877 \r\nL 412.465092 405.231251 \r\nL 429.029099 403.633733 \r\nL 445.593106 402.036215 \r\nL 462.157114 400.438696 \r\nL 478.721121 398.841178 \r\nL 495.285129 397.24366 \r\nL 511.849136 395.646141 \r\nL 528.413144 394.048623 \r\nL 544.977151 392.451104 \r\nL 561.541158 390.853586 \r\nL 578.105166 389.256068 \r\nL 594.669173 387.658549 \r\nL 611.233181 386.061031 \r\nL 627.797188 384.463513 \r\nL 644.361196 382.865994 \r\nL 660.925203 381.268476 \r\nL 677.48921 379.670958 \r\nL 694.053218 378.073439 \r\nL 710.617225 376.475921 \r\nL 727.181233 374.878402 \r\nL 743.74524 373.280884 \r\nL 760.309247 371.683366 \r\nL 776.873255 370.085847 \r\nL 793.437262 368.488329 \r\nL 810.00127 366.890811 \r\nL 826.565277 365.293292 \r\nL 843.129285 363.695774 \r\nL 859.693292 362.098255 \r\nL 876.257299 360.500737 \r\nL 892.821307 358.903219 \r\n\" style=\"fill:none;stroke:#2ca02c;stroke-linecap:square;stroke-width:1.5;\"/>\r\n   </g>\r\n   <g id=\"line2d_15\">\r\n    <path clip-path=\"url(#p079148baa8)\" d=\"M 81.184943 445.879219 \r\nL 97.748951 444.143228 \r\nL 114.312958 442.158342 \r\nL 130.876965 439.958214 \r\nL 147.440973 437.568461 \r\nL 164.00498 435.009242 \r\nL 180.568988 432.296834 \r\nL 197.132995 429.44466 \r\nL 213.697003 426.463975 \r\nL 230.26101 423.364356 \r\nL 246.825017 420.154051 \r\nL 263.389025 416.840238 \r\nL 279.953032 413.429218 \r\nL 296.51704 409.92657 \r\nL 313.081047 406.337268 \r\nL 329.645054 402.665771 \r\nL 346.209062 398.916104 \r\nL 362.773069 395.091913 \r\nL 379.337077 391.196523 \r\nL 395.901084 387.232971 \r\nL 412.465092 383.204049 \r\nL 429.029099 379.112325 \r\nL 445.593106 374.960177 \r\nL 462.157114 370.749806 \r\nL 478.721121 366.483261 \r\nL 495.285129 362.162451 \r\nL 511.849136 357.789158 \r\nL 528.413144 353.365052 \r\nL 544.977151 348.891699 \r\nL 561.541158 344.370573 \r\nL 578.105166 339.803061 \r\nL 594.669173 335.190472 \r\nL 611.233181 330.534043 \r\nL 627.797188 325.834945 \r\nL 644.361196 321.094288 \r\nL 660.925203 316.313127 \r\nL 677.48921 311.492463 \r\nL 694.053218 306.633249 \r\nL 710.617225 301.736393 \r\nL 727.181233 296.802763 \r\nL 743.74524 291.833186 \r\nL 760.309247 286.828452 \r\nL 776.873255 281.78932 \r\nL 793.437262 276.716513 \r\nL 810.00127 271.610729 \r\nL 826.565277 266.472632 \r\nL 843.129285 261.302865 \r\nL 859.693292 256.102042 \r\nL 876.257299 250.870756 \r\nL 892.821307 245.609578 \r\n\" style=\"fill:none;stroke:#d62728;stroke-linecap:square;stroke-width:1.5;\"/>\r\n   </g>\r\n   <g id=\"line2d_16\">\r\n    <path clip-path=\"url(#p079148baa8)\" d=\"M 81.184943 437.181619 \r\nL 97.748951 433.69316 \r\nL 114.312958 429.617858 \r\nL 130.876965 424.955713 \r\nL 147.440973 419.706724 \r\nL 164.00498 413.870892 \r\nL 180.568988 407.448216 \r\nL 197.132995 400.438696 \r\nL 213.697003 392.842333 \r\nL 230.26101 384.659127 \r\nL 246.825017 375.889077 \r\nL 263.389025 366.532184 \r\nL 279.953032 356.588447 \r\nL 296.51704 346.057867 \r\nL 313.081047 334.940443 \r\nL 329.645054 323.236176 \r\nL 346.209062 310.945065 \r\nL 362.773069 298.067111 \r\nL 379.337077 284.602313 \r\nL 395.901084 270.550672 \r\nL 412.465092 255.912188 \r\nL 429.029099 240.68686 \r\nL 445.593106 224.874688 \r\nL 462.157114 208.475673 \r\nL 478.721121 191.489814 \r\nL 495.285129 173.917112 \r\nL 511.849136 155.757567 \r\nL 528.413144 137.011178 \r\nL 544.977151 117.677945 \r\nL 561.541158 97.757869 \r\nL 578.105166 77.25095 \r\nL 594.669173 56.157187 \r\nL 611.233181 34.476581 \r\nL 627.797188 12.209131 \r\nL 637.370713 -1 \r\n\" style=\"fill:none;stroke:#9467bd;stroke-linecap:square;stroke-width:1.5;\"/>\r\n   </g>\r\n   <g id=\"line2d_17\">\r\n    <path clip-path=\"url(#p079148baa8)\" d=\"M 81.184943 428.484019 \r\nL 97.748951 426.122235 \r\nL 114.312958 423.439786 \r\nL 130.876965 420.393135 \r\nL 147.440973 416.932835 \r\nL 164.00498 413.002721 \r\nL 180.568988 408.539008 \r\nL 197.132995 403.469246 \r\nL 213.697003 397.711152 \r\nL 230.26101 391.171269 \r\nL 246.825017 383.743452 \r\nL 263.389025 375.307144 \r\nL 279.953032 365.72542 \r\nL 296.51704 354.842764 \r\nL 313.081047 342.482547 \r\nL 329.645054 328.444157 \r\nL 346.209062 312.499743 \r\nL 362.773069 294.390522 \r\nL 379.337077 273.822573 \r\nL 395.901084 250.462068 \r\nL 412.465092 223.929857 \r\nL 429.029099 193.79531 \r\nL 445.593106 159.56933 \r\nL 462.157114 120.696415 \r\nL 478.721121 76.545639 \r\nL 495.285129 26.400417 \r\nL 503.254092 -1 \r\n\" style=\"fill:none;stroke:#8c564b;stroke-linecap:square;stroke-width:1.5;\"/>\r\n   </g>\r\n   <g id=\"patch_3\">\r\n    <path d=\"M 40.603125 445.879219 \r\nL 40.603125 10.999219 \r\n\" style=\"fill:none;stroke:#000000;stroke-linecap:square;stroke-linejoin:miter;stroke-width:0.8;\"/>\r\n   </g>\r\n   <g id=\"patch_4\">\r\n    <path d=\"M 933.403125 445.879219 \r\nL 933.403125 10.999219 \r\n\" style=\"fill:none;stroke:#000000;stroke-linecap:square;stroke-linejoin:miter;stroke-width:0.8;\"/>\r\n   </g>\r\n   <g id=\"patch_5\">\r\n    <path d=\"M 40.603125 445.879219 \r\nL 933.403125 445.879219 \r\n\" style=\"fill:none;stroke:#000000;stroke-linecap:square;stroke-linejoin:miter;stroke-width:0.8;\"/>\r\n   </g>\r\n   <g id=\"patch_6\">\r\n    <path d=\"M 40.603125 10.999219 \r\nL 933.403125 10.999219 \r\n\" style=\"fill:none;stroke:#000000;stroke-linecap:square;stroke-linejoin:miter;stroke-width:0.8;\"/>\r\n   </g>\r\n   <g id=\"legend_1\">\r\n    <g id=\"patch_7\">\r\n     <path d=\"M 835.246875 107.067969 \r\nL 926.403125 107.067969 \r\nQ 928.403125 107.067969 928.403125 105.067969 \r\nL 928.403125 17.999219 \r\nQ 928.403125 15.999219 926.403125 15.999219 \r\nL 835.246875 15.999219 \r\nQ 833.246875 15.999219 833.246875 17.999219 \r\nL 833.246875 105.067969 \r\nQ 833.246875 107.067969 835.246875 107.067969 \r\nz\r\n\" style=\"fill:#ffffff;opacity:0.8;stroke:#cccccc;stroke-linejoin:miter;\"/>\r\n    </g>\r\n    <g id=\"line2d_18\">\r\n     <path d=\"M 837.246875 24.097656 \r\nL 857.246875 24.097656 \r\n\" style=\"fill:none;stroke:#1f77b4;stroke-linecap:square;stroke-width:1.5;\"/>\r\n    </g>\r\n    <g id=\"line2d_19\"/>\r\n    <g id=\"text_14\">\r\n     <!-- Constant -->\r\n     <g transform=\"translate(865.246875 27.597656)scale(0.1 -0.1)\">\r\n      <defs>\r\n       <path d=\"M 4122 4306 \r\nL 4122 3641 \r\nQ 3803 3938 3442 4084 \r\nQ 3081 4231 2675 4231 \r\nQ 1875 4231 1450 3742 \r\nQ 1025 3253 1025 2328 \r\nQ 1025 1406 1450 917 \r\nQ 1875 428 2675 428 \r\nQ 3081 428 3442 575 \r\nQ 3803 722 4122 1019 \r\nL 4122 359 \r\nQ 3791 134 3420 21 \r\nQ 3050 -91 2638 -91 \r\nQ 1578 -91 968 557 \r\nQ 359 1206 359 2328 \r\nQ 359 3453 968 4101 \r\nQ 1578 4750 2638 4750 \r\nQ 3056 4750 3426 4639 \r\nQ 3797 4528 4122 4306 \r\nz\r\n\" id=\"DejaVuSans-43\" transform=\"scale(0.015625)\"/>\r\n       <path d=\"M 1959 3097 \r\nQ 1497 3097 1228 2736 \r\nQ 959 2375 959 1747 \r\nQ 959 1119 1226 758 \r\nQ 1494 397 1959 397 \r\nQ 2419 397 2687 759 \r\nQ 2956 1122 2956 1747 \r\nQ 2956 2369 2687 2733 \r\nQ 2419 3097 1959 3097 \r\nz\r\nM 1959 3584 \r\nQ 2709 3584 3137 3096 \r\nQ 3566 2609 3566 1747 \r\nQ 3566 888 3137 398 \r\nQ 2709 -91 1959 -91 \r\nQ 1206 -91 779 398 \r\nQ 353 888 353 1747 \r\nQ 353 2609 779 3096 \r\nQ 1206 3584 1959 3584 \r\nz\r\n\" id=\"DejaVuSans-6f\" transform=\"scale(0.015625)\"/>\r\n       <path d=\"M 2834 3397 \r\nL 2834 2853 \r\nQ 2591 2978 2328 3040 \r\nQ 2066 3103 1784 3103 \r\nQ 1356 3103 1142 2972 \r\nQ 928 2841 928 2578 \r\nQ 928 2378 1081 2264 \r\nQ 1234 2150 1697 2047 \r\nL 1894 2003 \r\nQ 2506 1872 2764 1633 \r\nQ 3022 1394 3022 966 \r\nQ 3022 478 2636 193 \r\nQ 2250 -91 1575 -91 \r\nQ 1294 -91 989 -36 \r\nQ 684 19 347 128 \r\nL 347 722 \r\nQ 666 556 975 473 \r\nQ 1284 391 1588 391 \r\nQ 1994 391 2212 530 \r\nQ 2431 669 2431 922 \r\nQ 2431 1156 2273 1281 \r\nQ 2116 1406 1581 1522 \r\nL 1381 1569 \r\nQ 847 1681 609 1914 \r\nQ 372 2147 372 2553 \r\nQ 372 3047 722 3315 \r\nQ 1072 3584 1716 3584 \r\nQ 2034 3584 2315 3537 \r\nQ 2597 3491 2834 3397 \r\nz\r\n\" id=\"DejaVuSans-73\" transform=\"scale(0.015625)\"/>\r\n      </defs>\r\n      <use xlink:href=\"#DejaVuSans-43\"/>\r\n      <use x=\"69.824219\" xlink:href=\"#DejaVuSans-6f\"/>\r\n      <use x=\"131.005859\" xlink:href=\"#DejaVuSans-6e\"/>\r\n      <use x=\"194.384766\" xlink:href=\"#DejaVuSans-73\"/>\r\n      <use x=\"246.484375\" xlink:href=\"#DejaVuSans-74\"/>\r\n      <use x=\"285.693359\" xlink:href=\"#DejaVuSans-61\"/>\r\n      <use x=\"346.972656\" xlink:href=\"#DejaVuSans-6e\"/>\r\n      <use x=\"410.351562\" xlink:href=\"#DejaVuSans-74\"/>\r\n     </g>\r\n    </g>\r\n    <g id=\"line2d_20\">\r\n     <path d=\"M 837.246875 38.775781 \r\nL 857.246875 38.775781 \r\n\" style=\"fill:none;stroke:#ff7f0e;stroke-linecap:square;stroke-width:1.5;\"/>\r\n    </g>\r\n    <g id=\"line2d_21\"/>\r\n    <g id=\"text_15\">\r\n     <!-- Logarithmic -->\r\n     <g transform=\"translate(865.246875 42.275781)scale(0.1 -0.1)\">\r\n      <defs>\r\n       <path d=\"M 628 4666 \r\nL 1259 4666 \r\nL 1259 531 \r\nL 3531 531 \r\nL 3531 0 \r\nL 628 0 \r\nL 628 4666 \r\nz\r\n\" id=\"DejaVuSans-4c\" transform=\"scale(0.015625)\"/>\r\n       <path d=\"M 2906 1791 \r\nQ 2906 2416 2648 2759 \r\nQ 2391 3103 1925 3103 \r\nQ 1463 3103 1205 2759 \r\nQ 947 2416 947 1791 \r\nQ 947 1169 1205 825 \r\nQ 1463 481 1925 481 \r\nQ 2391 481 2648 825 \r\nQ 2906 1169 2906 1791 \r\nz\r\nM 3481 434 \r\nQ 3481 -459 3084 -895 \r\nQ 2688 -1331 1869 -1331 \r\nQ 1566 -1331 1297 -1286 \r\nQ 1028 -1241 775 -1147 \r\nL 775 -588 \r\nQ 1028 -725 1275 -790 \r\nQ 1522 -856 1778 -856 \r\nQ 2344 -856 2625 -561 \r\nQ 2906 -266 2906 331 \r\nL 2906 616 \r\nQ 2728 306 2450 153 \r\nQ 2172 0 1784 0 \r\nQ 1141 0 747 490 \r\nQ 353 981 353 1791 \r\nQ 353 2603 747 3093 \r\nQ 1141 3584 1784 3584 \r\nQ 2172 3584 2450 3431 \r\nQ 2728 3278 2906 2969 \r\nL 2906 3500 \r\nL 3481 3500 \r\nL 3481 434 \r\nz\r\n\" id=\"DejaVuSans-67\" transform=\"scale(0.015625)\"/>\r\n       <path d=\"M 3513 2113 \r\nL 3513 0 \r\nL 2938 0 \r\nL 2938 2094 \r\nQ 2938 2591 2744 2837 \r\nQ 2550 3084 2163 3084 \r\nQ 1697 3084 1428 2787 \r\nQ 1159 2491 1159 1978 \r\nL 1159 0 \r\nL 581 0 \r\nL 581 4863 \r\nL 1159 4863 \r\nL 1159 2956 \r\nQ 1366 3272 1645 3428 \r\nQ 1925 3584 2291 3584 \r\nQ 2894 3584 3203 3211 \r\nQ 3513 2838 3513 2113 \r\nz\r\n\" id=\"DejaVuSans-68\" transform=\"scale(0.015625)\"/>\r\n       <path d=\"M 3122 3366 \r\nL 3122 2828 \r\nQ 2878 2963 2633 3030 \r\nQ 2388 3097 2138 3097 \r\nQ 1578 3097 1268 2742 \r\nQ 959 2388 959 1747 \r\nQ 959 1106 1268 751 \r\nQ 1578 397 2138 397 \r\nQ 2388 397 2633 464 \r\nQ 2878 531 3122 666 \r\nL 3122 134 \r\nQ 2881 22 2623 -34 \r\nQ 2366 -91 2075 -91 \r\nQ 1284 -91 818 406 \r\nQ 353 903 353 1747 \r\nQ 353 2603 823 3093 \r\nQ 1294 3584 2113 3584 \r\nQ 2378 3584 2631 3529 \r\nQ 2884 3475 3122 3366 \r\nz\r\n\" id=\"DejaVuSans-63\" transform=\"scale(0.015625)\"/>\r\n      </defs>\r\n      <use xlink:href=\"#DejaVuSans-4c\"/>\r\n      <use x=\"53.962891\" xlink:href=\"#DejaVuSans-6f\"/>\r\n      <use x=\"115.144531\" xlink:href=\"#DejaVuSans-67\"/>\r\n      <use x=\"178.621094\" xlink:href=\"#DejaVuSans-61\"/>\r\n      <use x=\"239.900391\" xlink:href=\"#DejaVuSans-72\"/>\r\n      <use x=\"281.013672\" xlink:href=\"#DejaVuSans-69\"/>\r\n      <use x=\"308.796875\" xlink:href=\"#DejaVuSans-74\"/>\r\n      <use x=\"348.005859\" xlink:href=\"#DejaVuSans-68\"/>\r\n      <use x=\"411.384766\" xlink:href=\"#DejaVuSans-6d\"/>\r\n      <use x=\"508.796875\" xlink:href=\"#DejaVuSans-69\"/>\r\n      <use x=\"536.580078\" xlink:href=\"#DejaVuSans-63\"/>\r\n     </g>\r\n    </g>\r\n    <g id=\"line2d_22\">\r\n     <path d=\"M 837.246875 53.453906 \r\nL 857.246875 53.453906 \r\n\" style=\"fill:none;stroke:#2ca02c;stroke-linecap:square;stroke-width:1.5;\"/>\r\n    </g>\r\n    <g id=\"line2d_23\"/>\r\n    <g id=\"text_16\">\r\n     <!-- Linear -->\r\n     <g transform=\"translate(865.246875 56.953906)scale(0.1 -0.1)\">\r\n      <use xlink:href=\"#DejaVuSans-4c\"/>\r\n      <use x=\"55.712891\" xlink:href=\"#DejaVuSans-69\"/>\r\n      <use x=\"83.496094\" xlink:href=\"#DejaVuSans-6e\"/>\r\n      <use x=\"146.875\" xlink:href=\"#DejaVuSans-65\"/>\r\n      <use x=\"208.398438\" xlink:href=\"#DejaVuSans-61\"/>\r\n      <use x=\"269.677734\" xlink:href=\"#DejaVuSans-72\"/>\r\n     </g>\r\n    </g>\r\n    <g id=\"line2d_24\">\r\n     <path d=\"M 837.246875 68.132031 \r\nL 857.246875 68.132031 \r\n\" style=\"fill:none;stroke:#d62728;stroke-linecap:square;stroke-width:1.5;\"/>\r\n    </g>\r\n    <g id=\"line2d_25\"/>\r\n    <g id=\"text_17\">\r\n     <!-- Log Linear -->\r\n     <g transform=\"translate(865.246875 71.632031)scale(0.1 -0.1)\">\r\n      <use xlink:href=\"#DejaVuSans-4c\"/>\r\n      <use x=\"53.962891\" xlink:href=\"#DejaVuSans-6f\"/>\r\n      <use x=\"115.144531\" xlink:href=\"#DejaVuSans-67\"/>\r\n      <use x=\"178.621094\" xlink:href=\"#DejaVuSans-20\"/>\r\n      <use x=\"210.408203\" xlink:href=\"#DejaVuSans-4c\"/>\r\n      <use x=\"266.121094\" xlink:href=\"#DejaVuSans-69\"/>\r\n      <use x=\"293.904297\" xlink:href=\"#DejaVuSans-6e\"/>\r\n      <use x=\"357.283203\" xlink:href=\"#DejaVuSans-65\"/>\r\n      <use x=\"418.806641\" xlink:href=\"#DejaVuSans-61\"/>\r\n      <use x=\"480.085938\" xlink:href=\"#DejaVuSans-72\"/>\r\n     </g>\r\n    </g>\r\n    <g id=\"line2d_26\">\r\n     <path d=\"M 837.246875 82.810156 \r\nL 857.246875 82.810156 \r\n\" style=\"fill:none;stroke:#9467bd;stroke-linecap:square;stroke-width:1.5;\"/>\r\n    </g>\r\n    <g id=\"line2d_27\"/>\r\n    <g id=\"text_18\">\r\n     <!-- Quadratic -->\r\n     <g transform=\"translate(865.246875 86.310156)scale(0.1 -0.1)\">\r\n      <defs>\r\n       <path d=\"M 2522 4238 \r\nQ 1834 4238 1429 3725 \r\nQ 1025 3213 1025 2328 \r\nQ 1025 1447 1429 934 \r\nQ 1834 422 2522 422 \r\nQ 3209 422 3611 934 \r\nQ 4013 1447 4013 2328 \r\nQ 4013 3213 3611 3725 \r\nQ 3209 4238 2522 4238 \r\nz\r\nM 3406 84 \r\nL 4238 -825 \r\nL 3475 -825 \r\nL 2784 -78 \r\nQ 2681 -84 2626 -87 \r\nQ 2572 -91 2522 -91 \r\nQ 1538 -91 948 567 \r\nQ 359 1225 359 2328 \r\nQ 359 3434 948 4092 \r\nQ 1538 4750 2522 4750 \r\nQ 3503 4750 4090 4092 \r\nQ 4678 3434 4678 2328 \r\nQ 4678 1516 4351 937 \r\nQ 4025 359 3406 84 \r\nz\r\n\" id=\"DejaVuSans-51\" transform=\"scale(0.015625)\"/>\r\n       <path d=\"M 2906 2969 \r\nL 2906 4863 \r\nL 3481 4863 \r\nL 3481 0 \r\nL 2906 0 \r\nL 2906 525 \r\nQ 2725 213 2448 61 \r\nQ 2172 -91 1784 -91 \r\nQ 1150 -91 751 415 \r\nQ 353 922 353 1747 \r\nQ 353 2572 751 3078 \r\nQ 1150 3584 1784 3584 \r\nQ 2172 3584 2448 3432 \r\nQ 2725 3281 2906 2969 \r\nz\r\nM 947 1747 \r\nQ 947 1113 1208 752 \r\nQ 1469 391 1925 391 \r\nQ 2381 391 2643 752 \r\nQ 2906 1113 2906 1747 \r\nQ 2906 2381 2643 2742 \r\nQ 2381 3103 1925 3103 \r\nQ 1469 3103 1208 2742 \r\nQ 947 2381 947 1747 \r\nz\r\n\" id=\"DejaVuSans-64\" transform=\"scale(0.015625)\"/>\r\n      </defs>\r\n      <use xlink:href=\"#DejaVuSans-51\"/>\r\n      <use x=\"78.710938\" xlink:href=\"#DejaVuSans-75\"/>\r\n      <use x=\"142.089844\" xlink:href=\"#DejaVuSans-61\"/>\r\n      <use x=\"203.369141\" xlink:href=\"#DejaVuSans-64\"/>\r\n      <use x=\"266.845703\" xlink:href=\"#DejaVuSans-72\"/>\r\n      <use x=\"307.958984\" xlink:href=\"#DejaVuSans-61\"/>\r\n      <use x=\"369.238281\" xlink:href=\"#DejaVuSans-74\"/>\r\n      <use x=\"408.447266\" xlink:href=\"#DejaVuSans-69\"/>\r\n      <use x=\"436.230469\" xlink:href=\"#DejaVuSans-63\"/>\r\n     </g>\r\n    </g>\r\n    <g id=\"line2d_28\">\r\n     <path d=\"M 837.246875 97.488281 \r\nL 857.246875 97.488281 \r\n\" style=\"fill:none;stroke:#8c564b;stroke-linecap:square;stroke-width:1.5;\"/>\r\n    </g>\r\n    <g id=\"line2d_29\"/>\r\n    <g id=\"text_19\">\r\n     <!-- Cubic -->\r\n     <g transform=\"translate(865.246875 100.988281)scale(0.1 -0.1)\">\r\n      <defs>\r\n       <path d=\"M 3116 1747 \r\nQ 3116 2381 2855 2742 \r\nQ 2594 3103 2138 3103 \r\nQ 1681 3103 1420 2742 \r\nQ 1159 2381 1159 1747 \r\nQ 1159 1113 1420 752 \r\nQ 1681 391 2138 391 \r\nQ 2594 391 2855 752 \r\nQ 3116 1113 3116 1747 \r\nz\r\nM 1159 2969 \r\nQ 1341 3281 1617 3432 \r\nQ 1894 3584 2278 3584 \r\nQ 2916 3584 3314 3078 \r\nQ 3713 2572 3713 1747 \r\nQ 3713 922 3314 415 \r\nQ 2916 -91 2278 -91 \r\nQ 1894 -91 1617 61 \r\nQ 1341 213 1159 525 \r\nL 1159 0 \r\nL 581 0 \r\nL 581 4863 \r\nL 1159 4863 \r\nL 1159 2969 \r\nz\r\n\" id=\"DejaVuSans-62\" transform=\"scale(0.015625)\"/>\r\n      </defs>\r\n      <use xlink:href=\"#DejaVuSans-43\"/>\r\n      <use x=\"69.824219\" xlink:href=\"#DejaVuSans-75\"/>\r\n      <use x=\"133.203125\" xlink:href=\"#DejaVuSans-62\"/>\r\n      <use x=\"196.679688\" xlink:href=\"#DejaVuSans-69\"/>\r\n      <use x=\"224.462891\" xlink:href=\"#DejaVuSans-63\"/>\r\n     </g>\r\n    </g>\r\n   </g>\r\n  </g>\r\n </g>\r\n <defs>\r\n  <clipPath id=\"p079148baa8\">\r\n   <rect height=\"434.88\" width=\"892.8\" x=\"40.603125\" y=\"10.999219\"/>\r\n  </clipPath>\r\n </defs>\r\n</svg>\r\n",
      "image/png": "[encoded data removed]"
     },
     "metadata": {
      "needs_background": "light"
     }
    }
   ],
   "metadata": {}
  },
  {
   "cell_type": "markdown",
   "source": [
    "# BigO Examples \r\n",
    "## BigO 1 (Constant)"
   ],
   "metadata": {}
  },
  {
   "cell_type": "code",
   "execution_count": null,
   "source": [
    "def bigOConst(values):\r\n",
    "    \r\n",
    "    '''\r\n",
    "    return the frist index value of the list values\r\n",
    "    '''\r\n",
    "    return values[0]\r\n",
    "\r\n",
    "bigOConst([1,2,4,2,4,2,1,3,1])"
   ],
   "outputs": [
    {
     "output_type": "execute_result",
     "data": {
      "text/plain": [
       "1"
      ]
     },
     "metadata": {},
     "execution_count": 11
    }
   ],
   "metadata": {}
  },
  {
   "cell_type": "markdown",
   "source": [
    "## bigO 2 (Linear)"
   ],
   "metadata": {}
  },
  {
   "cell_type": "code",
   "execution_count": null,
   "source": [
    "def bigOLin(values):\r\n",
    "    '''\r\n",
    "    return the all values of the list\r\n",
    "    '''\r\n",
    "    for i in values:\r\n",
    "        print(i)\r\n",
    "\r\n",
    "bigOLin([10,23,28,64,])"
   ],
   "outputs": [
    {
     "output_type": "stream",
     "name": "stdout",
     "text": [
      "10\n",
      "23\n",
      "28\n",
      "64\n"
     ]
    }
   ],
   "metadata": {}
  },
  {
   "cell_type": "markdown",
   "source": [
    "## Quadradic List"
   ],
   "metadata": {}
  },
  {
   "cell_type": "code",
   "execution_count": null,
   "source": [
    "def bigOquad(lst):\r\n",
    "    '''\r\n",
    "    Prints pair of every item of the list\r\n",
    "    '''\r\n",
    "    for i in lst:\r\n",
    "        for j in lst:\r\n",
    "            print(i,j)\r\n",
    "bigOquad([12,4,2,1,5,3,54])"
   ],
   "outputs": [
    {
     "output_type": "stream",
     "name": "stdout",
     "text": [
      "12 12\n",
      "12 4\n",
      "12 2\n",
      "12 1\n",
      "12 5\n",
      "12 3\n",
      "12 54\n",
      "4 12\n",
      "4 4\n",
      "4 2\n",
      "4 1\n",
      "4 5\n",
      "4 3\n",
      "4 54\n",
      "2 12\n",
      "2 4\n",
      "2 2\n",
      "2 1\n",
      "2 5\n",
      "2 3\n",
      "2 54\n",
      "1 12\n",
      "1 4\n",
      "1 2\n",
      "1 1\n",
      "1 5\n",
      "1 3\n",
      "1 54\n",
      "5 12\n",
      "5 4\n",
      "5 2\n",
      "5 1\n",
      "5 5\n",
      "5 3\n",
      "5 54\n",
      "3 12\n",
      "3 4\n",
      "3 2\n",
      "3 1\n",
      "3 5\n",
      "3 3\n",
      "3 54\n",
      "54 12\n",
      "54 4\n",
      "54 2\n",
      "54 1\n",
      "54 5\n",
      "54 3\n",
      "54 54\n"
     ]
    }
   ],
   "metadata": {}
  },
  {
   "cell_type": "code",
   "execution_count": null,
   "source": [
    "def threeTime(n):\r\n",
    "    for _ in range(3):\r\n",
    "        for i in n:\r\n",
    "            print(i)\r\n",
    "threeTime(\"khela hobe\")"
   ],
   "outputs": [
    {
     "output_type": "stream",
     "name": "stdout",
     "text": [
      "k\n",
      "h\n",
      "e\n",
      "l\n",
      "a\n",
      " \n",
      "h\n",
      "o\n",
      "b\n",
      "e\n",
      "k\n",
      "h\n",
      "e\n",
      "l\n",
      "a\n",
      " \n",
      "h\n",
      "o\n",
      "b\n",
      "e\n",
      "k\n",
      "h\n",
      "e\n",
      "l\n",
      "a\n",
      " \n",
      "h\n",
      "o\n",
      "b\n",
      "e\n"
     ]
    }
   ],
   "metadata": {}
  },
  {
   "cell_type": "code",
   "execution_count": null,
   "source": [
    "def comp(lst):\r\n",
    "    '''\r\n",
    "    Fist element of the list\r\n",
    "    First half element of the list\r\n",
    "    First 10 element of the list (constant)\r\n",
    "    '''\r\n",
    "    print(lst[0])\r\n",
    "    print(lst[:(len(lst)//2)])\r\n",
    "    print('Number\\n'*10)\r\n",
    "lst = [1,3,9,25,2,4,2,6]\r\n",
    "comp(lst)"
   ],
   "outputs": [
    {
     "output_type": "stream",
     "name": "stdout",
     "text": [
      "1\n",
      "[1, 3, 9, 25]\n",
      "Number\n",
      "Number\n",
      "Number\n",
      "Number\n",
      "Number\n",
      "Number\n",
      "Number\n",
      "Number\n",
      "Number\n",
      "Number\n",
      "\n"
     ]
    }
   ],
   "metadata": {}
  },
  {
   "cell_type": "code",
   "execution_count": null,
   "source": [
    "def lstMatch(lst, match):\r\n",
    "    return match in lst\r\n",
    "lstMatch(lst,2)"
   ],
   "outputs": [
    {
     "output_type": "execute_result",
     "data": {
      "text/plain": [
       "True"
      ]
     },
     "metadata": {},
     "execution_count": 16
    }
   ],
   "metadata": {}
  },
  {
   "cell_type": "code",
   "execution_count": null,
   "source": [
    "lstMatch(lst,45)"
   ],
   "outputs": [
    {
     "output_type": "execute_result",
     "data": {
      "text/plain": [
       "False"
      ]
     },
     "metadata": {},
     "execution_count": 17
    }
   ],
   "metadata": {}
  },
  {
   "cell_type": "code",
   "execution_count": null,
   "source": [
    "def memory(n = 10):\r\n",
    "    print(\"Memory!\\n\"*n)\r\n",
    "memory(10)"
   ],
   "outputs": [
    {
     "output_type": "stream",
     "name": "stdout",
     "text": [
      "Memory!\n",
      "Memory!\n",
      "Memory!\n",
      "Memory!\n",
      "Memory!\n",
      "Memory!\n",
      "Memory!\n",
      "Memory!\n",
      "Memory!\n",
      "Memory!\n",
      "\n"
     ]
    }
   ],
   "metadata": {}
  },
  {
   "cell_type": "code",
   "execution_count": null,
   "source": [
    "import sys\r\n",
    "n = 10\r\n",
    "data = []\r\n",
    "for _ in range(n):\r\n",
    "    a = len(data)\r\n",
    "    b = sys.getsizeof(data)\r\n",
    "    print('Length {0:3d} ; Size in bytes: {1:4d}'.format(a,b))\r\n",
    "    data.append(n)"
   ],
   "outputs": [
    {
     "output_type": "stream",
     "name": "stdout",
     "text": [
      "Length   0 ; Size in bytes:   56\n",
      "Length   1 ; Size in bytes:   88\n",
      "Length   2 ; Size in bytes:   88\n",
      "Length   3 ; Size in bytes:   88\n",
      "Length   4 ; Size in bytes:   88\n",
      "Length   5 ; Size in bytes:  120\n",
      "Length   6 ; Size in bytes:  120\n",
      "Length   7 ; Size in bytes:  120\n",
      "Length   8 ; Size in bytes:  120\n",
      "Length   9 ; Size in bytes:  184\n"
     ]
    }
   ],
   "metadata": {}
  },
  {
   "cell_type": "code",
   "execution_count": null,
   "source": [
    "def anagram(s1,s2):\r\n",
    "    s1 = s1.replace(\" \", \"\").lower()\r\n",
    "    s2 = s2.replace(\" \", \"\").lower()\r\n",
    "    return sorted(s1)== sorted(s2) \r\n",
    "\r\n",
    "anagram(\"dog\",'god')\r\n",
    "    "
   ],
   "outputs": [
    {
     "output_type": "execute_result",
     "data": {
      "text/plain": [
       "True"
      ]
     },
     "metadata": {},
     "execution_count": 26
    }
   ],
   "metadata": {}
  },
  {
   "cell_type": "code",
   "execution_count": null,
   "source": [
    "anagram(\"clint east wood\",\"old west action\")"
   ],
   "outputs": [
    {
     "output_type": "execute_result",
     "data": {
      "text/plain": [
       "True"
      ]
     },
     "metadata": {},
     "execution_count": 29
    }
   ],
   "metadata": {}
  },
  {
   "cell_type": "code",
   "execution_count": null,
   "source": [
    "anagram(\"aa\",\"bb\")"
   ],
   "outputs": [
    {
     "output_type": "execute_result",
     "data": {
      "text/plain": [
       "False"
      ]
     },
     "metadata": {},
     "execution_count": 30
    }
   ],
   "metadata": {}
  },
  {
   "cell_type": "code",
   "execution_count": null,
   "source": [],
   "outputs": [],
   "metadata": {}
  }
 ],
 "metadata": {
  "orig_nbformat": 4,
  "language_info": {
   "name": "python",
   "version": "3.9.6",
   "mimetype": "text/x-python",
   "codemirror_mode": {
    "name": "ipython",
    "version": 3
   },
   "pygments_lexer": "ipython3",
   "nbconvert_exporter": "python",
   "file_extension": ".py"
  },
  "kernelspec": {
   "name": "python3",
   "display_name": "Python 3.9.6 64-bit"
  },
  "interpreter": {
   "hash": "f83227f45e76b566f0c827b651c6f8b1dac494b0ecf114f587d69b8f346cb00f"
  }
 },
 "nbformat": 4,
 "nbformat_minor": 2
}